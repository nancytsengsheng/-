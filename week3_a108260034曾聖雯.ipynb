{
  "nbformat": 4,
  "nbformat_minor": 0,
  "metadata": {
    "colab": {
      "name": "week3 a108260034曾聖雯.ipynb",
      "provenance": []
    },
    "kernelspec": {
      "name": "python3",
      "display_name": "Python 3"
    }
  },
  "cells": [
    {
      "cell_type": "code",
      "metadata": {
        "id": "TaJRgZHNH8f_",
        "colab_type": "code",
        "colab": {
          "base_uri": "https://localhost:8080/",
          "height": 34
        },
        "outputId": "1aae7714-343f-46d8-b54d-b1eb8d7742d1"
      },
      "source": [
        "print(\"哈囉world\")"
      ],
      "execution_count": 1,
      "outputs": [
        {
          "output_type": "stream",
          "text": [
            "哈囉world\n"
          ],
          "name": "stdout"
        }
      ]
    }
  ]
}