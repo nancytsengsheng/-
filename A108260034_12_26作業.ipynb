{
  "nbformat": 4,
  "nbformat_minor": 0,
  "metadata": {
    "colab": {
      "name": "A108260034-12/26作業",
      "provenance": [],
      "include_colab_link": true
    },
    "kernelspec": {
      "name": "python3",
      "display_name": "Python 3"
    }
  },
  "cells": [
    {
      "cell_type": "markdown",
      "metadata": {
        "id": "view-in-github",
        "colab_type": "text"
      },
      "source": [
        "<a href=\"https://colab.research.google.com/github/nancytsengsheng/-/blob/master/A108260034_12_26%E4%BD%9C%E6%A5%AD.ipynb\" target=\"_parent\"><img src=\"https://colab.research.google.com/assets/colab-badge.svg\" alt=\"Open In Colab\"/></a>"
      ]
    },
    {
      "cell_type": "code",
      "metadata": {
        "id": "F4_DaJnnKprv",
        "colab_type": "code",
        "colab": {
          "base_uri": "https://localhost:8080/",
          "height": 51
        },
        "outputId": "23258ce0-b8ef-4259-f603-bb49d0d0efe5"
      },
      "source": [
        "answer = \"123\"\n",
        "while True:\n",
        "    password = input(\"enter your password\")\n",
        "    if password == answer:\n",
        "       print(\"correct\")\n",
        "       break\n",
        "    else:\n",
        "       print(\"fail, try again\")"
      ],
      "execution_count": 1,
      "outputs": [
        {
          "output_type": "stream",
          "text": [
            "enter your password123\n",
            "correct\n"
          ],
          "name": "stdout"
        }
      ]
    },
    {
      "cell_type": "code",
      "metadata": {
        "id": "cgEFaKVsK1Vv",
        "colab_type": "code",
        "colab": {
          "base_uri": "https://localhost:8080/",
          "height": 68
        },
        "outputId": "b2bb42cc-f62b-4622-f9b7-2bacfb00643d"
      },
      "source": [
        "answer1 = \"123\"\n",
        "answer2 = \"456\"\n",
        "while True:\n",
        "    n1 = input(\"enter your password\")\n",
        "    n2 = input(\"enter your account\")\n",
        "    if n1 == answer1 and n2 == answer2:\n",
        "      print(\"account and password correct\")\n",
        "      break\n",
        "    else:\n",
        "      print(\"fail try again\")"
      ],
      "execution_count": 2,
      "outputs": [
        {
          "output_type": "stream",
          "text": [
            "enter your password123\n",
            "enter your account456\n",
            "account and password correct\n"
          ],
          "name": "stdout"
        }
      ]
    },
    {
      "cell_type": "code",
      "metadata": {
        "id": "_1cTqDqzLDpW",
        "colab_type": "code",
        "colab": {
          "base_uri": "https://localhost:8080/",
          "height": 85
        },
        "outputId": "c5782a5e-83ca-44f5-fe76-954d1971d921"
      },
      "source": [
        "answer1 = \"a123456\"\n",
        "x = 3\n",
        "while True: \n",
        "    n1 = input(\"Enter your password,you have 3 chance:\")\n",
        "    if n1 == answer1:\n",
        "      print(\"correct\")\n",
        "      break\n",
        "    else:\n",
        "      x = x-1\n",
        "      print(\"fail,you have\",x,\"chance\")\n",
        "    if x == 0:\n",
        "      print(\"you fail\")\n",
        "      break"
      ],
      "execution_count": 3,
      "outputs": [
        {
          "output_type": "stream",
          "text": [
            "Enter your password,you have 3 chance:456\n",
            "fail,you have 2 chance\n",
            "Enter your password,you have 3 chance:a123456\n",
            "correct\n"
          ],
          "name": "stdout"
        }
      ]
    },
    {
      "cell_type": "code",
      "metadata": {
        "id": "_UwjXktzLUr_",
        "colab_type": "code",
        "colab": {
          "base_uri": "https://localhost:8080/",
          "height": 34
        },
        "outputId": "c73c743c-5e43-48a4-fa54-9c3ff2a7819d"
      },
      "source": [
        "for a in range(6):\n",
        "      print(a, end=\" \")\n",
        "print(\"\")"
      ],
      "execution_count": 4,
      "outputs": [
        {
          "output_type": "stream",
          "text": [
            "0 1 2 3 4 5 \n"
          ],
          "name": "stdout"
        }
      ]
    },
    {
      "cell_type": "code",
      "metadata": {
        "id": "Fmvf-VLWLZuW",
        "colab_type": "code",
        "colab": {
          "base_uri": "https://localhost:8080/",
          "height": 34
        },
        "outputId": "2341ef73-82cd-42f8-a546-4beb70cf0d20"
      },
      "source": [
        "sum = 0\n",
        "for x in range(1,11,2):\n",
        "  sum = sum + x\n",
        "print(\"1+3+5+7+9\",sum)"
      ],
      "execution_count": 5,
      "outputs": [
        {
          "output_type": "stream",
          "text": [
            "1+3+5+7+9 25\n"
          ],
          "name": "stdout"
        }
      ]
    },
    {
      "cell_type": "code",
      "metadata": {
        "id": "quqlI7zkLesy",
        "colab_type": "code",
        "colab": {
          "base_uri": "https://localhost:8080/",
          "height": 131
        },
        "outputId": "efd98d27-9831-483a-8cd7-85359e095f36"
      },
      "source": [
        "x =int(input(\"Entre a number:\"))\n",
        "sum = 0 \n",
        "for x in range(x)\n",
        "  sum = sum x**2\n",
        "  print(\"sum of squares is\", sum)"
      ],
      "execution_count": 6,
      "outputs": [
        {
          "output_type": "error",
          "ename": "SyntaxError",
          "evalue": "ignored",
          "traceback": [
            "\u001b[0;36m  File \u001b[0;32m\"<ipython-input-6-7f6678bb2f26>\"\u001b[0;36m, line \u001b[0;32m3\u001b[0m\n\u001b[0;31m    for x in range(x)\u001b[0m\n\u001b[0m                     ^\u001b[0m\n\u001b[0;31mSyntaxError\u001b[0m\u001b[0;31m:\u001b[0m invalid syntax\n"
          ]
        }
      ]
    }
  ]
}